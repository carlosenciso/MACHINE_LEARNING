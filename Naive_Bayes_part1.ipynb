{
  "nbformat": 4,
  "nbformat_minor": 0,
  "metadata": {
    "colab": {
      "name": "Naive_Bayes_part1.ipynb",
      "provenance": [],
      "authorship_tag": "ABX9TyMv9ghdtd5WGM6PD9nSZFGs",
      "include_colab_link": true
    },
    "kernelspec": {
      "name": "python3",
      "display_name": "Python 3"
    }
  },
  "cells": [
    {
      "cell_type": "markdown",
      "metadata": {
        "id": "view-in-github",
        "colab_type": "text"
      },
      "source": [
        "<a href=\"https://colab.research.google.com/github/carlosenciso/MACHINE_LEARNING/blob/master/Naive_Bayes_part1.ipynb\" target=\"_parent\"><img src=\"https://colab.research.google.com/assets/colab-badge.svg\" alt=\"Open In Colab\"/></a>"
      ]
    },
    {
      "cell_type": "markdown",
      "metadata": {
        "id": "DwnwoV7-M9ow",
        "colab_type": "text"
      },
      "source": [
        "<h1><center><strong>Machine Learning 04. Bayes Naives</strong></center></h1>"
      ]
    },
    {
      "cell_type": "markdown",
      "metadata": {
        "id": "k4JeCj-NMZ_-",
        "colab_type": "text"
      },
      "source": [
        "# 1. Installing a library that is not in Colaboratory\n",
        "\n",
        "To import a library that's not in Colaboratory by default, you can use `!pip install` or `!apt-get install`."
      ]
    },
    {
      "cell_type": "code",
      "metadata": {
        "id": "5kMHoMBZMGAx",
        "colab_type": "code",
        "colab": {}
      },
      "source": [
        "!pip install geopandas\n",
        "!pip install xarray \n",
        "!pip install rioxarray\n",
        "!pip install cmocean\n",
        "!pip install seaborn"
      ],
      "execution_count": null,
      "outputs": []
    },
    {
      "cell_type": "markdown",
      "metadata": {
        "id": "4XmgFx_VMrN6",
        "colab_type": "text"
      },
      "source": [
        "# 2. Mount Drive\n",
        "Mount remotely your google drive to get access into Dataset"
      ]
    },
    {
      "cell_type": "code",
      "metadata": {
        "id": "xNNrcA59MMUC",
        "colab_type": "code",
        "colab": {}
      },
      "source": [
        "import pandas as pd\n",
        "import geopandas as gpd\n",
        "import matplotlib.pyplot as plt\n",
        "import numpy as np\n",
        "import os\n",
        "import cmocean as cmo\n",
        "from google.colab import drive\n",
        "drive.mount('/content/drive', force_remount=True)"
      ],
      "execution_count": null,
      "outputs": []
    },
    {
      "cell_type": "markdown",
      "metadata": {
        "colab_type": "text",
        "id": "pDfLdQiaM6pZ"
      },
      "source": [
        "# 3. Reading Dataset Titanic surviver\n",
        "Preprocess open dataset from titanic statistics"
      ]
    },
    {
      "cell_type": "code",
      "metadata": {
        "id": "xERauPKeStXL",
        "colab_type": "code",
        "colab": {}
      },
      "source": [
        "df = pd.read_csv('https://raw.githubusercontent.com/codebasics/py/master/ML/14_naive_bayes/titanic.csv')\n",
        "df = df.iloc[:,[2,3,4,-1]]\n",
        "df = df.join(pd.get_dummies(df['Sex'], prefix=None), how='left')\n",
        "target = df.iloc[:,[-3]]\n",
        "inputs = df.iloc[:,[0,2,4,5]]"
      ],
      "execution_count": 41,
      "outputs": []
    },
    {
      "cell_type": "markdown",
      "metadata": {
        "id": "sa1LklVLPouI",
        "colab_type": "text"
      },
      "source": [
        "## 3.1. Is there any nan on inputs?"
      ]
    },
    {
      "cell_type": "code",
      "metadata": {
        "id": "ITgAWuEININr",
        "colab_type": "code",
        "colab": {
          "base_uri": "https://localhost:8080/",
          "height": 34
        },
        "outputId": "bea4fe3e-9071-4488-f6ce-0474b560c86d"
      },
      "source": [
        "inputs.columns[inputs.isna().any()]"
      ],
      "execution_count": 42,
      "outputs": [
        {
          "output_type": "execute_result",
          "data": {
            "text/plain": [
              "Index(['Age'], dtype='object')"
            ]
          },
          "metadata": {
            "tags": []
          },
          "execution_count": 42
        }
      ]
    },
    {
      "cell_type": "code",
      "metadata": {
        "id": "nwY0nMyhPhfk",
        "colab_type": "code",
        "colab": {}
      },
      "source": [
        "%%capture\n",
        "inputs.loc[:,'Age'] = inputs.loc[:,'Age'].fillna(inputs.loc[:,'Age'].mean(skipna=True))"
      ],
      "execution_count": 51,
      "outputs": []
    },
    {
      "cell_type": "markdown",
      "metadata": {
        "id": "iM8g1hVqRCnv",
        "colab_type": "text"
      },
      "source": [
        "# 4. Import model"
      ]
    },
    {
      "cell_type": "markdown",
      "metadata": {
        "id": "YYink5hrRs7i",
        "colab_type": "text"
      },
      "source": [
        "## 4.1. Split into train and test datasets"
      ]
    },
    {
      "cell_type": "code",
      "metadata": {
        "id": "0jn3poEzQd5A",
        "colab_type": "code",
        "colab": {}
      },
      "source": [
        "from sklearn.model_selection import train_test_split\n",
        "X_train, X_test, y_train, y_test = train_test_split(inputs, target)"
      ],
      "execution_count": 52,
      "outputs": []
    },
    {
      "cell_type": "markdown",
      "metadata": {
        "id": "Q5myzDn9Ryyi",
        "colab_type": "text"
      },
      "source": [
        "## 4.2. Call GaussianNB model"
      ]
    },
    {
      "cell_type": "code",
      "metadata": {
        "id": "TSJ_kDBNRWod",
        "colab_type": "code",
        "colab": {}
      },
      "source": [
        "from sklearn.naive_bayes import GaussianNB\n",
        "model = GaussianNB()"
      ],
      "execution_count": 56,
      "outputs": []
    },
    {
      "cell_type": "code",
      "metadata": {
        "id": "kXgtdMwZRYpF",
        "colab_type": "code",
        "colab": {}
      },
      "source": [
        "model.fit(X_train, y_train)"
      ],
      "execution_count": null,
      "outputs": []
    },
    {
      "cell_type": "markdown",
      "metadata": {
        "id": "zR4VfvIySIY2",
        "colab_type": "text"
      },
      "source": [
        "## 4.3. Verifying score model"
      ]
    },
    {
      "cell_type": "code",
      "metadata": {
        "id": "lyHlgKpwRaQu",
        "colab_type": "code",
        "colab": {
          "base_uri": "https://localhost:8080/",
          "height": 34
        },
        "outputId": "15c5b4f7-c30c-4225-97fc-f7fada42bff1"
      },
      "source": [
        "model.score(X_test, y_test)"
      ],
      "execution_count": 58,
      "outputs": [
        {
          "output_type": "execute_result",
          "data": {
            "text/plain": [
              "0.7802690582959642"
            ]
          },
          "metadata": {
            "tags": []
          },
          "execution_count": 58
        }
      ]
    },
    {
      "cell_type": "markdown",
      "metadata": {
        "id": "JM83IbikSPkN",
        "colab_type": "text"
      },
      "source": [
        "## 4.4. Check out some outputs"
      ]
    },
    {
      "cell_type": "code",
      "metadata": {
        "id": "EY-xxb5wRb0L",
        "colab_type": "code",
        "colab": {}
      },
      "source": [
        "y_test.head(10)"
      ],
      "execution_count": null,
      "outputs": []
    },
    {
      "cell_type": "code",
      "metadata": {
        "id": "UhfHiudlSgEO",
        "colab_type": "code",
        "colab": {}
      },
      "source": [
        "model.predict(X_test[:10])"
      ],
      "execution_count": null,
      "outputs": []
    },
    {
      "cell_type": "code",
      "metadata": {
        "id": "Owor4q6hS5C8",
        "colab_type": "code",
        "colab": {}
      },
      "source": [
        "model.predict_proba(X_test[:10])"
      ],
      "execution_count": null,
      "outputs": []
    },
    {
      "cell_type": "markdown",
      "metadata": {
        "id": "e6Uz3T6bUBq1",
        "colab_type": "text"
      },
      "source": [
        "# 5. Inspect with heatmap"
      ]
    },
    {
      "cell_type": "code",
      "metadata": {
        "id": "UlE183SNTZXv",
        "colab_type": "code",
        "colab": {}
      },
      "source": [
        "from sklearn.metrics import confusion_matrix\n",
        "import seaborn as sns\n",
        "plt.style.use('ggplot')\n",
        "cm = confusion_matrix(y_test, model.predict(X_test))"
      ],
      "execution_count": 70,
      "outputs": []
    },
    {
      "cell_type": "code",
      "metadata": {
        "id": "oMJyf3aRToFS",
        "colab_type": "code",
        "colab": {
          "base_uri": "https://localhost:8080/",
          "height": 707
        },
        "outputId": "a80bfd34-7c32-4a93-ed15-3fd3bee16f12"
      },
      "source": [
        "fig, ax = plt.subplots(figsize=(10,10), dpi=80)\n",
        "sns.heatmap(cm, annot=True, ax=ax, cmap=cmo.cm.speed)\n",
        "ax.set_ylabel('Truth')\n",
        "ax.set_xlabel('Predicted')\n",
        "ax.set_title('Model skill')"
      ],
      "execution_count": 74,
      "outputs": [
        {
          "output_type": "execute_result",
          "data": {
            "text/plain": [
              "Text(0.5, 1.0, 'Model skill')"
            ]
          },
          "metadata": {
            "tags": []
          },
          "execution_count": 74
        },
        {
          "output_type": "display_data",
          "data": {
            "image/png": "[encoded data removed]",
            "text/plain": [
              "<Figure size 800x800 with 2 Axes>"
            ]
          },
          "metadata": {
            "tags": []
          }
        }
      ]
    },
    {
      "cell_type": "code",
      "metadata": {
        "id": "m_nWBtXRUWbO",
        "colab_type": "code",
        "colab": {}
      },
      "source": [
        ""
      ],
      "execution_count": null,
      "outputs": []
    }
  ]
}